{
 "cells": [
  {
   "cell_type": "markdown",
   "id": "3b201f41",
   "metadata": {},
   "source": [
    "# Importing Dependencies"
   ]
  },
  {
   "cell_type": "code",
   "execution_count": 1,
   "id": "c5785263",
   "metadata": {},
   "outputs": [],
   "source": [
    "import pandas as pd\n",
    "import numpy as np\n",
    "import os\n",
    "import seaborn as sns"
   ]
  },
  {
   "cell_type": "code",
   "execution_count": 2,
   "id": "2dc557ff",
   "metadata": {},
   "outputs": [],
   "source": [
    "#! git clone https://github.com/WongKinYiu/yolov7.git"
   ]
  },
  {
   "cell_type": "code",
   "execution_count": 4,
   "id": "2c2bb496",
   "metadata": {},
   "outputs": [
    {
     "name": "stdout",
     "output_type": "stream",
     "text": [
      "/home/robin/Desktop/yolov7/yolo7_kpts_xtract/yolov7\n"
     ]
    }
   ],
   "source": [
    "%cd yolov7"
   ]
  },
  {
   "cell_type": "code",
   "execution_count": 4,
   "id": "3291d5f6",
   "metadata": {},
   "outputs": [
    {
     "name": "stderr",
     "output_type": "stream",
     "text": [
      "/home/robin/anaconda3/envs/text_extraction/lib/python3.9/site-packages/tqdm/auto.py:22: TqdmWarning: IProgress not found. Please update jupyter and ipywidgets. See https://ipywidgets.readthedocs.io/en/stable/user_install.html\n",
      "  from .autonotebook import tqdm as notebook_tqdm\n"
     ]
    }
   ],
   "source": [
    "import torch\n",
    "from torchvision import transforms\n",
    "\n",
    "from utils.datasets import letterbox\n",
    "from utils.general import non_max_suppression_kpt\n",
    "from utils.plots import output_to_keypoint, plot_skeleton_kpts\n",
    "\n",
    "import matplotlib.pyplot as plt\n",
    "import cv2\n",
    "import numpy as np"
   ]
  },
  {
   "cell_type": "code",
   "execution_count": 5,
   "id": "e8f37fab",
   "metadata": {},
   "outputs": [],
   "source": [
    "def load_model():\n",
    "    device = torch.device(\"cuda:0\" if torch.cuda.is_available() else \"cpu\")\n",
    "    model = torch.load('/home/robin/Desktop/yolov7/yolo7_kpts_xtract/yolov7/yolov7-w6-pose.pt', map_location=device)['model']\n",
    "    # Put in inference mode\n",
    "    model.float().eval()\n",
    "\n",
    "    if torch.cuda.is_available():\n",
    "        # half() turns predictions into float16 tensors\n",
    "        # which significantly lowers inference time\n",
    "        model.half().to(device)\n",
    "    return model\n",
    "\n",
    "model = load_model()"
   ]
  },
  {
   "cell_type": "code",
   "execution_count": 6,
   "id": "8cf68717",
   "metadata": {},
   "outputs": [],
   "source": [
    "def run_inference(url):\n",
    "    image = cv2.imread(url) # shape: (480, 640, 3)\n",
    "    # Resize and pad image\n",
    "    image = letterbox(image, 960, stride=64, auto=True)[0] # shape: (768, 960, 3)\n",
    "    # Apply transforms\n",
    "    image = transforms.ToTensor()(image) # torch.Size([3, 768, 960])\n",
    "    # Turn image into batch\n",
    "    image = image.unsqueeze(0) # torch.Size([1, 3, 768, 960])\n",
    "    output, _ = model(image) # torch.Size([1, 45900, 57])\n",
    "    return output, image"
   ]
  },
  {
   "cell_type": "code",
   "execution_count": 7,
   "id": "d8fd19a4",
   "metadata": {},
   "outputs": [],
   "source": [
    "def visualize_output(output, image):\n",
    "    output = non_max_suppression_kpt(output, \n",
    "                                     0.25, # Confidence Threshold\n",
    "                                     0.65, # IoU Threshold\n",
    "                                     nc=model.yaml['nc'], # Number of Classes\n",
    "                                     nkpt=model.yaml['nkpt'], # Number of Keypoints\n",
    "                                     kpt_label=True)\n",
    "    with torch.no_grad():\n",
    "        output = output_to_keypoint(output)\n",
    "    nimg = image[0].permute(1, 2, 0) * 255\n",
    "    nimg = nimg.cpu().numpy().astype(np.uint8)\n",
    "    nimg = cv2.cvtColor(nimg, cv2.COLOR_RGB2BGR)\n",
    "    \n",
    "    \n",
    "    \n",
    "    for idx in range(output.shape[0]):\n",
    "        plot_skeleton_kpts(nimg, output[idx, 7:].T, 3)\n",
    "        kpts = (output[idx,7:].T)\n",
    "\n",
    "        print(kpts)\n",
    "#         landmarks = output[idx,7:].T\n",
    "#         print(\"landmarks\",landmarks)\n",
    "#         print(len(landmarks))\n",
    "#     plt.figure(figsize=(12, 12))\n",
    "#     plt.axis('off')\n",
    "#     plt.imshow(nimg)\n",
    "#     plt.show()\n",
    "    \n",
    "    cv2.imshow(\"res\",nimg)\n",
    "    cv2.waitKey(0)\n",
    "    cv2.destroyAllWindows()"
   ]
  },
  {
   "cell_type": "code",
   "execution_count": 10,
   "id": "f8ef7c1c",
   "metadata": {},
   "outputs": [
    {
     "name": "stderr",
     "output_type": "stream",
     "text": [
      "/home/robin/anaconda3/envs/text_extraction/lib/python3.9/site-packages/torch/functional.py:482: UserWarning: torch.meshgrid: in an upcoming release, it will be required to pass the indexing argument. (Triggered internally at ../aten/src/ATen/native/TensorShape.cpp:3070.)\n",
      "  return _VF.meshgrid(tensors, **kwargs)  # type: ignore[attr-defined]\n"
     ]
    },
    {
     "name": "stdout",
     "output_type": "stream",
     "text": [
      "[     429.83      348.76     0.99535      421.84       283.7     0.99874      381.69      381.23     0.97683      518.47       216.3     0.91029      398.81      429.56     0.17844      729.24      231.99     0.55445      566.29      532.53     0.75505         853      198.38     0.16084      426.26      553.01\n",
      "     0.33805      743.46      173.06     0.25613      317.22       376.1     0.47167      871.24      287.07    0.093104      835.27      449.38      0.1367      848.82      300.15    0.076528      816.92      490.51     0.10875      792.76      437.29    0.048305       747.1       531.6    0.060636]\n"
     ]
    }
   ],
   "source": [
    "output, image = run_inference('/home/robin/Desktop/assignment/images/images/Image_4.jpg') \n",
    "visualize_output(output, image)"
   ]
  },
  {
   "cell_type": "code",
   "execution_count": 11,
   "id": "dbdcb719",
   "metadata": {},
   "outputs": [
    {
     "name": "stdout",
     "output_type": "stream",
     "text": [
      "[array([     418.46,      403.97,     0.79962,      416.34,      317.69,     0.90865,      321.75,      394.91,     0.60157,       460.2,      211.47,     0.23838,      180.83,      337.81,     0.34994,      664.18,      164.66,     0.41392,      197.03,      490.25,     0.35296,      794.54,      277.78,     0.10455,\n",
      "            284.45,      588.64,    0.039345,      650.12,      553.71,     0.14986,      288.05,      561.04,    0.080392,      854.48,      268.66,     0.03558,      651.39,      391.23,    0.032746,      720.58,      438.42,    0.032935,      710.39,      470.12,      0.0307,      643.88,      577.25,    0.017722,\n",
      "            645.53,      579.96,    0.018314]), array([     429.83,      348.76,     0.99535,      421.84,       283.7,     0.99874,      381.69,      381.23,     0.97683,      518.47,       216.3,     0.91029,      398.81,      429.56,     0.17844,      729.24,      231.99,     0.55445,      566.29,      532.53,     0.75505,         853,      198.38,     0.16084,\n",
      "            426.26,      553.01,     0.33805,      743.46,      173.06,     0.25613,      317.22,       376.1,     0.47167,      871.24,      287.07,    0.093104,      835.27,      449.38,      0.1367,      848.82,      300.15,    0.076528,      816.92,      490.51,     0.10875,      792.76,      437.29,    0.048305,\n",
      "             747.1,       531.6,    0.060636]), array([     358.84,      154.98,     0.99755,       392.2,      121.13,     0.99815,      336.64,      125.75,     0.97844,      465.88,      120.62,     0.98516,       317.3,      122.42,     0.21512,      552.92,      296.99,     0.97801,      277.33,      250.83,     0.96212,      543.29,      542.88,      0.8415,\n",
      "            211.38,      435.82,     0.79195,       345.5,      587.01,     0.75286,      190.97,      484.76,      0.7304,      414.23,      605.21,     0.49617,      241.55,      575.74,     0.48232,      333.14,      596.57,      0.0362,      151.02,      564.51,    0.029527,      354.39,      612.64,   0.0077651,\n",
      "            272.57,      601.61,   0.0064529])]\n"
     ]
    }
   ],
   "source": [
    "all_kpts = []\n",
    "\n",
    "path = \"/home/robin/Desktop/yolov7/yolo7_kpts_xtract/imgs/\"\n",
    "\n",
    "for f in os.listdir(path):\n",
    "    img_path = path + f\n",
    "    \n",
    "    output, image = run_inference(img_path)\n",
    "    output = non_max_suppression_kpt(output, \n",
    "                                     0.25, # Confidence Threshold\n",
    "                                     0.65, # IoU Threshold\n",
    "                                     nc=model.yaml['nc'], # Number of Classes\n",
    "                                     nkpt=model.yaml['nkpt'], # Number of Keypoints\n",
    "                                     kpt_label=True)\n",
    "    \n",
    "    with torch.no_grad():\n",
    "        output = output_to_keypoint(output)\n",
    "        \n",
    "        for idx in range(output.shape[0]):\n",
    "            kpts = (output[idx,7:].T)\n",
    "            all_kpts.append(kpts)\n",
    "            \n",
    "\n",
    "print(all_kpts)\n",
    "    "
   ]
  },
  {
   "cell_type": "code",
   "execution_count": 14,
   "id": "af293ac0",
   "metadata": {},
   "outputs": [
    {
     "data": {
      "text/plain": [
       "array([     418.46,      403.97,     0.79962,      416.34,      317.69,     0.90865,      321.75,      394.91,     0.60157,       460.2,      211.47,     0.23838,      180.83,      337.81,     0.34994,      664.18,      164.66,     0.41392,      197.03,      490.25,     0.35296,      794.54,      277.78,     0.10455,\n",
       "            284.45,      588.64,    0.039345,      650.12,      553.71,     0.14986,      288.05,      561.04,    0.080392,      854.48,      268.66,     0.03558,      651.39,      391.23,    0.032746,      720.58,      438.42,    0.032935,      710.39,      470.12,      0.0307,      643.88,      577.25,    0.017722,\n",
       "            645.53,      579.96,    0.018314])"
      ]
     },
     "execution_count": 14,
     "metadata": {},
     "output_type": "execute_result"
    }
   ],
   "source": [
    "all_kpts[0]"
   ]
  },
  {
   "cell_type": "code",
   "execution_count": 15,
   "id": "c8697b43",
   "metadata": {},
   "outputs": [],
   "source": [
    "ds = pd.DataFrame(columns = [\"KPTS\"])\n",
    "\n",
    "ds[\"KPTS\"] = all_kpts"
   ]
  },
  {
   "cell_type": "code",
   "execution_count": 16,
   "id": "c8fecc4a",
   "metadata": {},
   "outputs": [
    {
     "data": {
      "text/html": [
       "<div>\n",
       "<style scoped>\n",
       "    .dataframe tbody tr th:only-of-type {\n",
       "        vertical-align: middle;\n",
       "    }\n",
       "\n",
       "    .dataframe tbody tr th {\n",
       "        vertical-align: top;\n",
       "    }\n",
       "\n",
       "    .dataframe thead th {\n",
       "        text-align: right;\n",
       "    }\n",
       "</style>\n",
       "<table border=\"1\" class=\"dataframe\">\n",
       "  <thead>\n",
       "    <tr style=\"text-align: right;\">\n",
       "      <th></th>\n",
       "      <th>KPTS</th>\n",
       "    </tr>\n",
       "  </thead>\n",
       "  <tbody>\n",
       "    <tr>\n",
       "      <th>0</th>\n",
       "      <td>[418.4575500488281, 403.9734191894531, 0.79961...</td>\n",
       "    </tr>\n",
       "    <tr>\n",
       "      <th>1</th>\n",
       "      <td>[429.829833984375, 348.75958251953125, 0.99534...</td>\n",
       "    </tr>\n",
       "    <tr>\n",
       "      <th>2</th>\n",
       "      <td>[358.8403625488281, 154.9840087890625, 0.99754...</td>\n",
       "    </tr>\n",
       "  </tbody>\n",
       "</table>\n",
       "</div>"
      ],
      "text/plain": [
       "                                                KPTS\n",
       "0  [418.4575500488281, 403.9734191894531, 0.79961...\n",
       "1  [429.829833984375, 348.75958251953125, 0.99534...\n",
       "2  [358.8403625488281, 154.9840087890625, 0.99754..."
      ]
     },
     "execution_count": 16,
     "metadata": {},
     "output_type": "execute_result"
    }
   ],
   "source": [
    "ds"
   ]
  },
  {
   "cell_type": "code",
   "execution_count": 8,
   "id": "63d3f2ae",
   "metadata": {},
   "outputs": [],
   "source": [
    "label_df = pd.read_csv(\"/home/robin/Desktop/yolov7/yolo7_kpts_xtract/labels.csv\",header = None)\n",
    "label_df = label_df.rename(columns={0: 'Name', 1: 'Label'})"
   ]
  },
  {
   "cell_type": "code",
   "execution_count": 9,
   "id": "86128f47",
   "metadata": {},
   "outputs": [
    {
     "data": {
      "text/html": [
       "<div>\n",
       "<style scoped>\n",
       "    .dataframe tbody tr th:only-of-type {\n",
       "        vertical-align: middle;\n",
       "    }\n",
       "\n",
       "    .dataframe tbody tr th {\n",
       "        vertical-align: top;\n",
       "    }\n",
       "\n",
       "    .dataframe thead th {\n",
       "        text-align: right;\n",
       "    }\n",
       "</style>\n",
       "<table border=\"1\" class=\"dataframe\">\n",
       "  <thead>\n",
       "    <tr style=\"text-align: right;\">\n",
       "      <th></th>\n",
       "      <th>Name</th>\n",
       "      <th>Label</th>\n",
       "    </tr>\n",
       "  </thead>\n",
       "  <tbody>\n",
       "    <tr>\n",
       "      <th>0</th>\n",
       "      <td>Image_1.jpg</td>\n",
       "      <td>sitting</td>\n",
       "    </tr>\n",
       "    <tr>\n",
       "      <th>1</th>\n",
       "      <td>Image_4.jpg</td>\n",
       "      <td>sleeping</td>\n",
       "    </tr>\n",
       "    <tr>\n",
       "      <th>2</th>\n",
       "      <td>Image_6.jpg</td>\n",
       "      <td>sleeping</td>\n",
       "    </tr>\n",
       "    <tr>\n",
       "      <th>3</th>\n",
       "      <td>Image_15.jpg</td>\n",
       "      <td>sleeping</td>\n",
       "    </tr>\n",
       "    <tr>\n",
       "      <th>4</th>\n",
       "      <td>Image_33.jpg</td>\n",
       "      <td>sitting</td>\n",
       "    </tr>\n",
       "    <tr>\n",
       "      <th>...</th>\n",
       "      <td>...</td>\n",
       "      <td>...</td>\n",
       "    </tr>\n",
       "    <tr>\n",
       "      <th>1264</th>\n",
       "      <td>Image_12527.jpg</td>\n",
       "      <td>running</td>\n",
       "    </tr>\n",
       "    <tr>\n",
       "      <th>1265</th>\n",
       "      <td>Image_12577.jpg</td>\n",
       "      <td>sleeping</td>\n",
       "    </tr>\n",
       "    <tr>\n",
       "      <th>1266</th>\n",
       "      <td>Image_12594.jpg</td>\n",
       "      <td>sleeping</td>\n",
       "    </tr>\n",
       "    <tr>\n",
       "      <th>1267</th>\n",
       "      <td>Image_12596.jpg</td>\n",
       "      <td>sitting</td>\n",
       "    </tr>\n",
       "    <tr>\n",
       "      <th>1268</th>\n",
       "      <td>Image_12598.jpg</td>\n",
       "      <td>sitting</td>\n",
       "    </tr>\n",
       "  </tbody>\n",
       "</table>\n",
       "<p>1259 rows × 2 columns</p>\n",
       "</div>"
      ],
      "text/plain": [
       "                 Name     Label\n",
       "0         Image_1.jpg   sitting\n",
       "1         Image_4.jpg  sleeping\n",
       "2         Image_6.jpg  sleeping\n",
       "3        Image_15.jpg  sleeping\n",
       "4        Image_33.jpg   sitting\n",
       "...               ...       ...\n",
       "1264  Image_12527.jpg   running\n",
       "1265  Image_12577.jpg  sleeping\n",
       "1266  Image_12594.jpg  sleeping\n",
       "1267  Image_12596.jpg   sitting\n",
       "1268  Image_12598.jpg   sitting\n",
       "\n",
       "[1259 rows x 2 columns]"
      ]
     },
     "execution_count": 9,
     "metadata": {},
     "output_type": "execute_result"
    }
   ],
   "source": [
    "label_df"
   ]
  },
  {
   "cell_type": "code",
   "execution_count": 9,
   "id": "5ae2e83c",
   "metadata": {},
   "outputs": [],
   "source": [
    "#label_df = label_df.drop(range(10,20),axis = 0)"
   ]
  },
  {
   "cell_type": "code",
   "execution_count": 11,
   "id": "ae2af078",
   "metadata": {},
   "outputs": [],
   "source": [
    "#abel_df.reset_index(drop=True,inplace = True)"
   ]
  },
  {
   "cell_type": "code",
   "execution_count": null,
   "id": "d9193791",
   "metadata": {},
   "outputs": [],
   "source": []
  },
  {
   "cell_type": "code",
   "execution_count": 20,
   "id": "aa5a28e7",
   "metadata": {},
   "outputs": [
    {
     "data": {
      "text/plain": [
       "['/home/robin/Desktop/yolov7/yolo7_kpts_xtract/imgs/Image_1.jpg',\n",
       " '/home/robin/Desktop/yolov7/yolo7_kpts_xtract/imgs/Image_4.jpg',\n",
       " '/home/robin/Desktop/yolov7/yolo7_kpts_xtract/imgs/Image_6.jpg']"
      ]
     },
     "execution_count": 20,
     "metadata": {},
     "output_type": "execute_result"
    }
   ],
   "source": [
    "file_name = [\"/home/robin/Desktop/yolov7/yolo7_kpts_xtract/imgs/\" + fname for fname in label_df[\"Name\"]]\n",
    "\n",
    "file_name [:3]"
   ]
  },
  {
   "cell_type": "code",
   "execution_count": 22,
   "id": "ad74e7de",
   "metadata": {},
   "outputs": [
    {
     "name": "stdout",
     "output_type": "stream",
     "text": [
      "/home/robin/Desktop/yolov7/yolo7_kpts_xtract/imgs/Image_1.jpg\n"
     ]
    }
   ],
   "source": [
    "for i in file_name[:1]:\n",
    "    print(i)"
   ]
  },
  {
   "cell_type": "code",
   "execution_count": 23,
   "id": "03889b81",
   "metadata": {},
   "outputs": [
    {
     "name": "stdout",
     "output_type": "stream",
     "text": [
      "[array([     358.84,      154.98,     0.99755,       392.2,      121.13,     0.99815,      336.64,      125.75,     0.97844,      465.88,      120.62,     0.98516,       317.3,      122.42,     0.21512,      552.92,      296.99,     0.97801,      277.33,      250.83,     0.96212,      543.29,      542.88,      0.8415,\n",
      "            211.38,      435.82,     0.79195,       345.5,      587.01,     0.75286,      190.97,      484.76,      0.7304,      414.23,      605.21,     0.49617,      241.55,      575.74,     0.48232,      333.14,      596.57,      0.0362,      151.02,      564.51,    0.029527,      354.39,      612.64,   0.0077651,\n",
      "            272.57,      601.61,   0.0064529]), array([     429.83,      348.76,     0.99535,      421.84,       283.7,     0.99874,      381.69,      381.23,     0.97683,      518.47,       216.3,     0.91029,      398.81,      429.56,     0.17844,      729.24,      231.99,     0.55445,      566.29,      532.53,     0.75505,         853,      198.38,     0.16084,\n",
      "            426.26,      553.01,     0.33805,      743.46,      173.06,     0.25613,      317.22,       376.1,     0.47167,      871.24,      287.07,    0.093104,      835.27,      449.38,      0.1367,      848.82,      300.15,    0.076528,      816.92,      490.51,     0.10875,      792.76,      437.29,    0.048305,\n",
      "             747.1,       531.6,    0.060636])]\n"
     ]
    }
   ],
   "source": [
    "test_all_kpts = []\n",
    "\n",
    "#path = \"/home/robin/Desktop/yolov7/yolo7_kpts_xtract/imgs/\"\n",
    "\n",
    "for f in file_name[:2]:\n",
    "    \n",
    "    output, image = run_inference(f)\n",
    "    output = non_max_suppression_kpt(output, \n",
    "                                     0.25, # Confidence Threshold\n",
    "                                     0.65, # IoU Threshold\n",
    "                                     nc=model.yaml['nc'], # Number of Classes\n",
    "                                     nkpt=model.yaml['nkpt'], # Number of Keypoints\n",
    "                                     kpt_label=True)\n",
    "    \n",
    "    with torch.no_grad():\n",
    "        output = output_to_keypoint(output)\n",
    "        \n",
    "        for idx in range(output.shape[0]):\n",
    "            kpts = (output[idx,7:].T)\n",
    "            test_all_kpts.append(kpts)\n",
    "            \n",
    "\n",
    "print(test_all_kpts)\n",
    "    "
   ]
  },
  {
   "cell_type": "code",
   "execution_count": 24,
   "id": "03b2d971",
   "metadata": {},
   "outputs": [
    {
     "data": {
      "text/plain": [
       "2"
      ]
     },
     "execution_count": 24,
     "metadata": {},
     "output_type": "execute_result"
    }
   ],
   "source": [
    "len(test_all_kpts)"
   ]
  },
  {
   "cell_type": "code",
   "execution_count": 12,
   "id": "115728af",
   "metadata": {},
   "outputs": [],
   "source": [
    "# For all images\n",
    "\n",
    "all_keypoints = []"
   ]
  },
  {
   "cell_type": "code",
   "execution_count": 13,
   "id": "1a7c68f3",
   "metadata": {},
   "outputs": [],
   "source": [
    "file_names = [\"/home/robin/Desktop/yolov7/yolo7_kpts_xtract/images/\" + fname for fname in label_df[\"Name\"]]"
   ]
  },
  {
   "cell_type": "code",
   "execution_count": 14,
   "id": "c67438c7",
   "metadata": {},
   "outputs": [
    {
     "name": "stderr",
     "output_type": "stream",
     "text": [
      "/home/robin/anaconda3/envs/text_extraction/lib/python3.9/site-packages/torch/functional.py:482: UserWarning: torch.meshgrid: in an upcoming release, it will be required to pass the indexing argument. (Triggered internally at ../aten/src/ATen/native/TensorShape.cpp:3070.)\n",
      "  return _VF.meshgrid(tensors, **kwargs)  # type: ignore[attr-defined]\n"
     ]
    }
   ],
   "source": [
    "\n",
    "#file_names = [\"/home/robin/Desktop/yolov7/yolo7_kpts_xtract/images/\" + fname for fname in label_df[\"Name\"]]\n",
    "\n",
    "for f in file_names[:10]:\n",
    "    \n",
    "    output, image = run_inference(f)\n",
    "    output = non_max_suppression_kpt(output, \n",
    "                                     0.25, # Confidence Threshold\n",
    "                                     0.65, # IoU Threshold\n",
    "                                     nc=model.yaml['nc'], # Number of Classes\n",
    "                                     nkpt=model.yaml['nkpt'], # Number of Keypoints\n",
    "                                     kpt_label=True)\n",
    "    \n",
    "    with torch.no_grad():\n",
    "        output = output_to_keypoint(output)\n",
    "        \n",
    "        for idx in range(output.shape[0]):\n",
    "            kpts = (output[idx,7:].T)\n",
    "            all_keypoints.append(kpts)\n",
    "            "
   ]
  },
  {
   "cell_type": "markdown",
   "id": "0fe31099",
   "metadata": {},
   "source": [
    "**Due to the lackings of computational power in my local system i could not run the model for all images and could not extract keypoints for every images. So i used few of images and extracting the keypoints and stored in a new list. For appending this keypoints columns into the Label CSV the the length of index need to be the same.. So i am filling the rest of the columns as Null Value.**"
   ]
  },
  {
   "cell_type": "code",
   "execution_count": 21,
   "id": "aac364bf",
   "metadata": {},
   "outputs": [
    {
     "data": {
      "text/plain": [
       "11"
      ]
     },
     "execution_count": 21,
     "metadata": {},
     "output_type": "execute_result"
    }
   ],
   "source": [
    "len(all_keypoints)"
   ]
  },
  {
   "cell_type": "code",
   "execution_count": 22,
   "id": "b6cd214d",
   "metadata": {},
   "outputs": [
    {
     "data": {
      "text/plain": [
       "1269"
      ]
     },
     "execution_count": 22,
     "metadata": {},
     "output_type": "execute_result"
    }
   ],
   "source": [
    "len(label_df)"
   ]
  },
  {
   "cell_type": "code",
   "execution_count": 24,
   "id": "191969c6",
   "metadata": {},
   "outputs": [],
   "source": [
    "for i in range(1257):\n",
    "    kpt = [\"NaN\"]\n",
    "    all_keypoints.append(kpt)"
   ]
  },
  {
   "cell_type": "code",
   "execution_count": 27,
   "id": "c63479d3",
   "metadata": {},
   "outputs": [
    {
     "data": {
      "text/plain": [
       "1269"
      ]
     },
     "execution_count": 27,
     "metadata": {},
     "output_type": "execute_result"
    }
   ],
   "source": [
    "len(all_keypoints)"
   ]
  },
  {
   "cell_type": "code",
   "execution_count": 28,
   "id": "5d678c2b",
   "metadata": {},
   "outputs": [],
   "source": [
    "label_df[\"Keypoints\"] = all_keypoints"
   ]
  },
  {
   "cell_type": "code",
   "execution_count": 29,
   "id": "9c67bbff",
   "metadata": {},
   "outputs": [
    {
     "data": {
      "text/html": [
       "<div>\n",
       "<style scoped>\n",
       "    .dataframe tbody tr th:only-of-type {\n",
       "        vertical-align: middle;\n",
       "    }\n",
       "\n",
       "    .dataframe tbody tr th {\n",
       "        vertical-align: top;\n",
       "    }\n",
       "\n",
       "    .dataframe thead th {\n",
       "        text-align: right;\n",
       "    }\n",
       "</style>\n",
       "<table border=\"1\" class=\"dataframe\">\n",
       "  <thead>\n",
       "    <tr style=\"text-align: right;\">\n",
       "      <th></th>\n",
       "      <th>Name</th>\n",
       "      <th>Label</th>\n",
       "      <th>Keypoints</th>\n",
       "    </tr>\n",
       "  </thead>\n",
       "  <tbody>\n",
       "    <tr>\n",
       "      <th>0</th>\n",
       "      <td>Image_1.jpg</td>\n",
       "      <td>sitting</td>\n",
       "      <td>[358.8403625488281, 154.9840087890625, 0.99754...</td>\n",
       "    </tr>\n",
       "    <tr>\n",
       "      <th>1</th>\n",
       "      <td>Image_4.jpg</td>\n",
       "      <td>sleeping</td>\n",
       "      <td>[429.829833984375, 348.75958251953125, 0.99534...</td>\n",
       "    </tr>\n",
       "    <tr>\n",
       "      <th>2</th>\n",
       "      <td>Image_6.jpg</td>\n",
       "      <td>sleeping</td>\n",
       "      <td>[418.4575500488281, 403.9734191894531, 0.79961...</td>\n",
       "    </tr>\n",
       "    <tr>\n",
       "      <th>3</th>\n",
       "      <td>Image_15.jpg</td>\n",
       "      <td>sleeping</td>\n",
       "      <td>[509.22998046875, 371.6900939941406, 0.9979376...</td>\n",
       "    </tr>\n",
       "    <tr>\n",
       "      <th>4</th>\n",
       "      <td>Image_33.jpg</td>\n",
       "      <td>sitting</td>\n",
       "      <td>[517.45166015625, 181.8089599609375, 0.9933015...</td>\n",
       "    </tr>\n",
       "    <tr>\n",
       "      <th>...</th>\n",
       "      <td>...</td>\n",
       "      <td>...</td>\n",
       "      <td>...</td>\n",
       "    </tr>\n",
       "    <tr>\n",
       "      <th>1264</th>\n",
       "      <td>Image_12527.jpg</td>\n",
       "      <td>running</td>\n",
       "      <td>[NaN]</td>\n",
       "    </tr>\n",
       "    <tr>\n",
       "      <th>1265</th>\n",
       "      <td>Image_12577.jpg</td>\n",
       "      <td>sleeping</td>\n",
       "      <td>[NaN]</td>\n",
       "    </tr>\n",
       "    <tr>\n",
       "      <th>1266</th>\n",
       "      <td>Image_12594.jpg</td>\n",
       "      <td>sleeping</td>\n",
       "      <td>[NaN]</td>\n",
       "    </tr>\n",
       "    <tr>\n",
       "      <th>1267</th>\n",
       "      <td>Image_12596.jpg</td>\n",
       "      <td>sitting</td>\n",
       "      <td>[NaN]</td>\n",
       "    </tr>\n",
       "    <tr>\n",
       "      <th>1268</th>\n",
       "      <td>Image_12598.jpg</td>\n",
       "      <td>sitting</td>\n",
       "      <td>[Nan]</td>\n",
       "    </tr>\n",
       "  </tbody>\n",
       "</table>\n",
       "<p>1269 rows × 3 columns</p>\n",
       "</div>"
      ],
      "text/plain": [
       "                 Name     Label  \\\n",
       "0         Image_1.jpg   sitting   \n",
       "1         Image_4.jpg  sleeping   \n",
       "2         Image_6.jpg  sleeping   \n",
       "3        Image_15.jpg  sleeping   \n",
       "4        Image_33.jpg   sitting   \n",
       "...               ...       ...   \n",
       "1264  Image_12527.jpg   running   \n",
       "1265  Image_12577.jpg  sleeping   \n",
       "1266  Image_12594.jpg  sleeping   \n",
       "1267  Image_12596.jpg   sitting   \n",
       "1268  Image_12598.jpg   sitting   \n",
       "\n",
       "                                              Keypoints  \n",
       "0     [358.8403625488281, 154.9840087890625, 0.99754...  \n",
       "1     [429.829833984375, 348.75958251953125, 0.99534...  \n",
       "2     [418.4575500488281, 403.9734191894531, 0.79961...  \n",
       "3     [509.22998046875, 371.6900939941406, 0.9979376...  \n",
       "4     [517.45166015625, 181.8089599609375, 0.9933015...  \n",
       "...                                                 ...  \n",
       "1264                                              [NaN]  \n",
       "1265                                              [NaN]  \n",
       "1266                                              [NaN]  \n",
       "1267                                              [NaN]  \n",
       "1268                                              [Nan]  \n",
       "\n",
       "[1269 rows x 3 columns]"
      ]
     },
     "execution_count": 29,
     "metadata": {},
     "output_type": "execute_result"
    }
   ],
   "source": [
    "label_df"
   ]
  },
  {
   "cell_type": "code",
   "execution_count": 30,
   "id": "7aaa24b6",
   "metadata": {},
   "outputs": [],
   "source": [
    "#saving the dataFrame \n",
    "\n",
    "label_df.to_csv(\"Unbalanced_keypoints.csv\")"
   ]
  },
  {
   "cell_type": "markdown",
   "id": "d105646a",
   "metadata": {},
   "source": [
    "# Balancing Imbalanced Dataset"
   ]
  },
  {
   "cell_type": "code",
   "execution_count": 2,
   "id": "fa53017a",
   "metadata": {},
   "outputs": [],
   "source": [
    "import pandas as pd"
   ]
  },
  {
   "cell_type": "code",
   "execution_count": 5,
   "id": "8fa0937f",
   "metadata": {},
   "outputs": [],
   "source": [
    "df = pd.read_csv(\"Unbalanced_keypoints.csv\")"
   ]
  },
  {
   "cell_type": "code",
   "execution_count": 11,
   "id": "ff10234a",
   "metadata": {},
   "outputs": [
    {
     "data": {
      "text/html": [
       "<div>\n",
       "<style scoped>\n",
       "    .dataframe tbody tr th:only-of-type {\n",
       "        vertical-align: middle;\n",
       "    }\n",
       "\n",
       "    .dataframe tbody tr th {\n",
       "        vertical-align: top;\n",
       "    }\n",
       "\n",
       "    .dataframe thead th {\n",
       "        text-align: right;\n",
       "    }\n",
       "</style>\n",
       "<table border=\"1\" class=\"dataframe\">\n",
       "  <thead>\n",
       "    <tr style=\"text-align: right;\">\n",
       "      <th></th>\n",
       "      <th>Unnamed: 0</th>\n",
       "      <th>Name</th>\n",
       "      <th>Label</th>\n",
       "      <th>Keypoints</th>\n",
       "    </tr>\n",
       "  </thead>\n",
       "  <tbody>\n",
       "    <tr>\n",
       "      <th>0</th>\n",
       "      <td>0</td>\n",
       "      <td>Image_1.jpg</td>\n",
       "      <td>sitting</td>\n",
       "      <td>[     358.84      154.98     0.99755       392...</td>\n",
       "    </tr>\n",
       "    <tr>\n",
       "      <th>1</th>\n",
       "      <td>1</td>\n",
       "      <td>Image_4.jpg</td>\n",
       "      <td>sleeping</td>\n",
       "      <td>[     429.83      348.76     0.99535      421....</td>\n",
       "    </tr>\n",
       "    <tr>\n",
       "      <th>2</th>\n",
       "      <td>2</td>\n",
       "      <td>Image_6.jpg</td>\n",
       "      <td>sleeping</td>\n",
       "      <td>[     418.46      403.97     0.79962      416....</td>\n",
       "    </tr>\n",
       "    <tr>\n",
       "      <th>3</th>\n",
       "      <td>3</td>\n",
       "      <td>Image_15.jpg</td>\n",
       "      <td>sleeping</td>\n",
       "      <td>[     509.23      371.69     0.99794      523....</td>\n",
       "    </tr>\n",
       "    <tr>\n",
       "      <th>4</th>\n",
       "      <td>4</td>\n",
       "      <td>Image_33.jpg</td>\n",
       "      <td>sitting</td>\n",
       "      <td>[     517.45      181.81      0.9933      522....</td>\n",
       "    </tr>\n",
       "    <tr>\n",
       "      <th>...</th>\n",
       "      <td>...</td>\n",
       "      <td>...</td>\n",
       "      <td>...</td>\n",
       "      <td>...</td>\n",
       "    </tr>\n",
       "    <tr>\n",
       "      <th>1264</th>\n",
       "      <td>1264</td>\n",
       "      <td>Image_12527.jpg</td>\n",
       "      <td>running</td>\n",
       "      <td>['NaN']</td>\n",
       "    </tr>\n",
       "    <tr>\n",
       "      <th>1265</th>\n",
       "      <td>1265</td>\n",
       "      <td>Image_12577.jpg</td>\n",
       "      <td>sleeping</td>\n",
       "      <td>['NaN']</td>\n",
       "    </tr>\n",
       "    <tr>\n",
       "      <th>1266</th>\n",
       "      <td>1266</td>\n",
       "      <td>Image_12594.jpg</td>\n",
       "      <td>sleeping</td>\n",
       "      <td>['NaN']</td>\n",
       "    </tr>\n",
       "    <tr>\n",
       "      <th>1267</th>\n",
       "      <td>1267</td>\n",
       "      <td>Image_12596.jpg</td>\n",
       "      <td>sitting</td>\n",
       "      <td>['NaN']</td>\n",
       "    </tr>\n",
       "    <tr>\n",
       "      <th>1268</th>\n",
       "      <td>1268</td>\n",
       "      <td>Image_12598.jpg</td>\n",
       "      <td>sitting</td>\n",
       "      <td>['Nan']</td>\n",
       "    </tr>\n",
       "  </tbody>\n",
       "</table>\n",
       "<p>1269 rows × 4 columns</p>\n",
       "</div>"
      ],
      "text/plain": [
       "      Unnamed: 0             Name     Label  \\\n",
       "0              0      Image_1.jpg   sitting   \n",
       "1              1      Image_4.jpg  sleeping   \n",
       "2              2      Image_6.jpg  sleeping   \n",
       "3              3     Image_15.jpg  sleeping   \n",
       "4              4     Image_33.jpg   sitting   \n",
       "...          ...              ...       ...   \n",
       "1264        1264  Image_12527.jpg   running   \n",
       "1265        1265  Image_12577.jpg  sleeping   \n",
       "1266        1266  Image_12594.jpg  sleeping   \n",
       "1267        1267  Image_12596.jpg   sitting   \n",
       "1268        1268  Image_12598.jpg   sitting   \n",
       "\n",
       "                                              Keypoints  \n",
       "0     [     358.84      154.98     0.99755       392...  \n",
       "1     [     429.83      348.76     0.99535      421....  \n",
       "2     [     418.46      403.97     0.79962      416....  \n",
       "3     [     509.23      371.69     0.99794      523....  \n",
       "4     [     517.45      181.81      0.9933      522....  \n",
       "...                                                 ...  \n",
       "1264                                            ['NaN']  \n",
       "1265                                            ['NaN']  \n",
       "1266                                            ['NaN']  \n",
       "1267                                            ['NaN']  \n",
       "1268                                            ['Nan']  \n",
       "\n",
       "[1269 rows x 4 columns]"
      ]
     },
     "execution_count": 11,
     "metadata": {},
     "output_type": "execute_result"
    }
   ],
   "source": [
    "df"
   ]
  },
  {
   "cell_type": "code",
   "execution_count": 19,
   "id": "a9957831",
   "metadata": {},
   "outputs": [],
   "source": [
    "df.drop(\"Unnamed: 0\",axis=1,inplace = True)"
   ]
  },
  {
   "cell_type": "code",
   "execution_count": 20,
   "id": "4e590bb5",
   "metadata": {},
   "outputs": [
    {
     "data": {
      "text/plain": [
       "sleeping    700\n",
       "sitting     379\n",
       "running     190\n",
       "Name: Label, dtype: int64"
      ]
     },
     "execution_count": 20,
     "metadata": {},
     "output_type": "execute_result"
    }
   ],
   "source": [
    "df[\"Label\"].value_counts()"
   ]
  },
  {
   "cell_type": "code",
   "execution_count": 14,
   "id": "bbb9827b",
   "metadata": {},
   "outputs": [],
   "source": [
    "from sklearn.utils import resample"
   ]
  },
  {
   "cell_type": "code",
   "execution_count": 16,
   "id": "7ff2103f",
   "metadata": {},
   "outputs": [],
   "source": [
    "# sitting_downsample = resample(ham_messages,\n",
    "#              replace=True,\n",
    "#              n_samples=len(spam_messages),\n",
    "#              random_state=42)\n",
    "\n",
    "# print(ham_downsample.shape)"
   ]
  },
  {
   "cell_type": "code",
   "execution_count": 24,
   "id": "94834e98",
   "metadata": {},
   "outputs": [
    {
     "name": "stdout",
     "output_type": "stream",
     "text": [
      "(700, 3)\n",
      "(379, 3)\n",
      "(190, 3)\n"
     ]
    }
   ],
   "source": [
    "sleeping = df[df[\"Label\"] == \"sleeping\"]\n",
    "sitting = df[df[\"Label\"] == \"sitting\"]\n",
    "running  = df[df[\"Label\"] == \"running\"]\n",
    "\n",
    "print(sleeping.shape)\n",
    "print(sitting.shape)\n",
    "print(running.shape)"
   ]
  },
  {
   "cell_type": "markdown",
   "id": "2158b379",
   "metadata": {},
   "source": [
    "# Downsampling with sklearn"
   ]
  },
  {
   "cell_type": "code",
   "execution_count": 25,
   "id": "4de63b3f",
   "metadata": {},
   "outputs": [
    {
     "name": "stdout",
     "output_type": "stream",
     "text": [
      "(190, 3)\n"
     ]
    }
   ],
   "source": [
    "sleeping_downsample = resample(sleeping,\n",
    "             replace=True,\n",
    "             n_samples=len(running),\n",
    "             random_state=42)\n",
    "\n",
    "print(sleeping_downsample.shape)"
   ]
  },
  {
   "cell_type": "code",
   "execution_count": 26,
   "id": "5116971c",
   "metadata": {},
   "outputs": [
    {
     "name": "stdout",
     "output_type": "stream",
     "text": [
      "(190, 3)\n"
     ]
    }
   ],
   "source": [
    "sitting_downsample = resample(sitting,\n",
    "             replace=True,\n",
    "             n_samples=len(running),\n",
    "             random_state=42)\n",
    "\n",
    "print(sitting_downsample.shape)"
   ]
  },
  {
   "cell_type": "code",
   "execution_count": 27,
   "id": "25191482",
   "metadata": {},
   "outputs": [
    {
     "name": "stdout",
     "output_type": "stream",
     "text": [
      "sleeping    190\n",
      "sitting     190\n",
      "running     190\n",
      "Name: Label, dtype: int64\n"
     ]
    },
    {
     "data": {
      "text/plain": [
       "<AxesSubplot:ylabel='Type'>"
      ]
     },
     "execution_count": 27,
     "metadata": {},
     "output_type": "execute_result"
    },
    {
     "data": {
      "image/png": "[encoded data removed]",
      "text/plain": [
       "<Figure size 432x288 with 1 Axes>"
      ]
     },
     "metadata": {},
     "output_type": "display_data"
    }
   ],
   "source": [
    "data_downsampled = pd.concat([sleeping_downsample,sitting_downsample, running])\n",
    "\n",
    "print(data_downsampled[\"Label\"].value_counts())\n",
    "\n",
    "data_downsampled.groupby('Label').size().plot(kind='pie',\n",
    "                                       y = \"Label\",\n",
    "                                       label = \"Type\",\n",
    "                                       autopct='%1.1f%%')"
   ]
  },
  {
   "cell_type": "code",
   "execution_count": 29,
   "id": "55a0ec8e",
   "metadata": {},
   "outputs": [],
   "source": [
    "# saving balanced keypoints dataset\n",
    "\n",
    "data_downsampled.to_csv(\"Balanced_keypoints\")"
   ]
  },
  {
   "cell_type": "markdown",
   "id": "9bd34076",
   "metadata": {},
   "source": [
    "# Upsampling with sklearn"
   ]
  },
  {
   "cell_type": "code",
   "execution_count": 30,
   "id": "baa1abb3",
   "metadata": {},
   "outputs": [
    {
     "name": "stdout",
     "output_type": "stream",
     "text": [
      "(700, 3)\n",
      "(700, 3)\n"
     ]
    }
   ],
   "source": [
    "from sklearn.utils import resample\n",
    "\n",
    "sitting_upsample = resample(sitting,\n",
    "             replace=True,\n",
    "             n_samples=len(sleeping),\n",
    "             random_state=42)\n",
    "\n",
    "print(sitting_upsample.shape)\n",
    "\n",
    "running_upsample = resample(running,\n",
    "             replace=True,\n",
    "             n_samples=len(sleeping),\n",
    "             random_state=42)\n",
    "\n",
    "print(running_upsample.shape)"
   ]
  },
  {
   "cell_type": "code",
   "execution_count": 31,
   "id": "6808523e",
   "metadata": {},
   "outputs": [
    {
     "name": "stdout",
     "output_type": "stream",
     "text": [
      "sleeping    700\n",
      "sitting     700\n",
      "running     700\n",
      "Name: Label, dtype: int64\n"
     ]
    },
    {
     "data": {
      "text/plain": [
       "<AxesSubplot:ylabel='Type'>"
      ]
     },
     "execution_count": 31,
     "metadata": {},
     "output_type": "execute_result"
    },
    {
     "data": {
      "image/png": "[encoded data removed]",
      "text/plain": [
       "<Figure size 432x288 with 1 Axes>"
      ]
     },
     "metadata": {},
     "output_type": "display_data"
    }
   ],
   "source": [
    "data_upsampled = pd.concat([sleeping,sitting_upsample, running_upsample])\n",
    "\n",
    "print(data_upsampled[\"Label\"].value_counts())\n",
    "\n",
    "data_upsampled.groupby('Label').size().plot(kind='pie',\n",
    "                                       y = \"Label\",\n",
    "                                       label = \"Type\",\n",
    "                                       autopct='%1.1f%%')"
   ]
  },
  {
   "cell_type": "code",
   "execution_count": null,
   "id": "1a13e6b0",
   "metadata": {},
   "outputs": [],
   "source": []
  }
 ],
 "metadata": {
  "kernelspec": {
   "display_name": "python3.7_env",
   "language": "python",
   "name": "python3.7_env"
  },
  "language_info": {
   "codemirror_mode": {
    "name": "ipython",
    "version": 3
   },
   "file_extension": ".py",
   "mimetype": "text/x-python",
   "name": "python",
   "nbconvert_exporter": "python",
   "pygments_lexer": "ipython3",
   "version": "3.8.10"
  }
 },
 "nbformat": 4,
 "nbformat_minor": 5
}
