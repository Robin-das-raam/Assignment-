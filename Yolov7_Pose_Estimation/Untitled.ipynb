{
 "cells": [
  {
   "cell_type": "code",
   "execution_count": null,
   "id": "b0f747b4",
   "metadata": {},
   "outputs": [],
   "source": []
  },
  {
   "cell_type": "code",
   "execution_count": 1,
   "id": "5ac61130",
   "metadata": {},
   "outputs": [
    {
     "name": "stderr",
     "output_type": "stream",
     "text": [
      "/home/robin/anaconda3/envs/text_extraction/lib/python3.9/site-packages/tqdm/auto.py:22: TqdmWarning: IProgress not found. Please update jupyter and ipywidgets. See https://ipywidgets.readthedocs.io/en/stable/user_install.html\n",
      "  from .autonotebook import tqdm as notebook_tqdm\n"
     ]
    }
   ],
   "source": [
    "import os\n",
    "import torch\n",
    "from torchvision import transforms"
   ]
  },
  {
   "cell_type": "code",
   "execution_count": null,
   "id": "8f5b7c4f",
   "metadata": {},
   "outputs": [],
   "source": [
    "import pandas as pd\n",
    "import numpy as np\n",
    "import seaborn as sns"
   ]
  },
  {
   "cell_type": "code",
   "execution_count": 2,
   "id": "dd76f886",
   "metadata": {},
   "outputs": [
    {
     "name": "stdout",
     "output_type": "stream",
     "text": [
      "Cloning into 'yolov7'...\n",
      "remote: Enumerating objects: 1081, done.\u001b[K\n",
      "remote: Counting objects: 100% (83/83), done.\u001b[K\n",
      "remote: Compressing objects: 100% (68/68), done.\u001b[K\n",
      "remote: Total 1081 (delta 14), reused 73 (delta 11), pack-reused 998\u001b[K\n",
      "Receiving objects: 100% (1081/1081), 69.97 MiB | 1.96 MiB/s, done.\n",
      "Resolving deltas: 100% (479/479), done.\n"
     ]
    }
   ],
   "source": [
    "! git clone https://github.com/WongKinYiu/yolov7.git"
   ]
  },
  {
   "cell_type": "code",
   "execution_count": null,
   "id": "66badc81",
   "metadata": {},
   "outputs": [],
   "source": [
    "%cd yolov7"
   ]
  },
  {
   "cell_type": "code",
   "execution_count": 9,
   "id": "ec3410ce",
   "metadata": {},
   "outputs": [
    {
     "name": "stdout",
     "output_type": "stream",
     "text": [
      "  % Total    % Received % Xferd  Average Speed   Time    Time     Time  Current\n",
      "                                 Dload  Upload   Total   Spent    Left  Speed\n",
      "  0     0    0     0    0     0      0      0 --:--:-- --:--:-- --:--:--     0\n",
      "100  153M  100  153M    0     0  1958k      0  0:01:20  0:01:20 --:--:-- 1876k   0  1958k      0  0:01:20  0:00:41  0:00:39 2179k\n"
     ]
    }
   ],
   "source": [
    "! curl -L https://github.com/WongKinYiu/yolov7/releases/download/v0.1/yolov7-w6-pose.pt -o yolov7-w6-pose.pt"
   ]
  },
  {
   "cell_type": "code",
   "execution_count": null,
   "id": "607b9eb9",
   "metadata": {},
   "outputs": [],
   "source": [
    "import torch\n",
    "from torchvision import transforms\n",
    "\n",
    "from utils.datasets import letterbox\n",
    "from utils.general import non_max_suppression_kpt\n",
    "from utils.plots import output_to_keypoint, plot_skeleton_kpts\n",
    "\n",
    "import matplotlib.pyplot as plt\n",
    "import cv2\n",
    "import numpy as np"
   ]
  },
  {
   "cell_type": "code",
   "execution_count": null,
   "id": "24fb5895",
   "metadata": {},
   "outputs": [],
   "source": [
    "def load_model():\n",
    "    device = torch.device(\"cuda:0\" if torch.cuda.is_available() else \"cpu\")\n",
    "    model = torch.load('/home/robin/Desktop/yolov7/yolo7_kpts_xtract/yolov7/yolov7-w6-pose.pt', map_location=device)['model']\n",
    "    # Put in inference mode\n",
    "    model.float().eval()\n",
    "\n",
    "    if torch.cuda.is_available():\n",
    "        # half() turns predictions into float16 tensors\n",
    "        # which significantly lowers inference time\n",
    "        model.half().to(device)\n",
    "    return model\n",
    "\n",
    "model = load_model()"
   ]
  },
  {
   "cell_type": "code",
   "execution_count": null,
   "id": "d48f06ae",
   "metadata": {},
   "outputs": [],
   "source": [
    "def run_inference(url):\n",
    "    image = cv2.imread(url) # shape: (480, 640, 3)\n",
    "    # Resize and pad image\n",
    "    image = letterbox(image, 960, stride=64, auto=True)[0] # shape: (768, 960, 3)\n",
    "    # Apply transforms\n",
    "    image = transforms.ToTensor()(image) # torch.Size([3, 768, 960])\n",
    "    # Turn image into batch\n",
    "    image = image.unsqueeze(0) # torch.Size([1, 3, 768, 960])\n",
    "    output, _ = model(image) # torch.Size([1, 45900, 57])\n",
    "    return output, image"
   ]
  },
  {
   "cell_type": "code",
   "execution_count": 9,
   "id": "3f98f164",
   "metadata": {},
   "outputs": [],
   "source": [
    "def visualize_output(output, image):\n",
    "    output = non_max_suppression_kpt(output, \n",
    "                                     0.25, # Confidence Threshold\n",
    "                                     0.65, # IoU Threshold\n",
    "                                     nc=model.yaml['nc'], # Number of Classes\n",
    "                                     nkpt=model.yaml['nkpt'], # Number of Keypoints\n",
    "                                     kpt_label=True)\n",
    "    with torch.no_grad():\n",
    "        output = output_to_keypoint(output)\n",
    "    nimg = image[0].permute(1, 2, 0) * 255\n",
    "    nimg = nimg.cpu().numpy().astype(np.uint8)\n",
    "    nimg = cv2.cvtColor(nimg, cv2.COLOR_RGB2BGR)\n",
    "    \n",
    "    \n",
    "    \n",
    "    for idx in range(output.shape[0]):\n",
    "        #_skeleton_kpts(nimg, output[idx, 7:].T, 3)\n",
    "        kpts = (output[idx,7:].T)\n",
    "        new_kpt = [kpts]\n",
    "        print(new_kpt)\n",
    "#         landmarks = output[idx,7:].T\n",
    "#         print(\"landmarks\",landmarks)\n",
    "#         print(len(landmarks))\n",
    "#     plt.figure(figsize=(12, 12))\n",
    "#     plt.axis('off')\n",
    "#     plt.imshow(nimg)\n",
    "#     plt.show()\n",
    "    \n",
    "#     cv2.imshow(\"res\",nimg)\n",
    "#     cv2.waitKey(0)\n",
    "#     cv2.destroyAllWindows()"
   ]
  },
  {
   "cell_type": "code",
   "execution_count": 10,
   "id": "97a8a54f",
   "metadata": {},
   "outputs": [
    {
     "name": "stdout",
     "output_type": "stream",
     "text": [
      "[array([     429.83,      348.76,     0.99535,      421.84,       283.7,     0.99874,      381.69,      381.23,     0.97683,      518.47,       216.3,     0.91029,      398.81,      429.56,     0.17844,      729.24,      231.99,     0.55445,      566.29,      532.53,     0.75505,         853,      198.38,     0.16084,\n",
      "            426.26,      553.01,     0.33805,      743.46,      173.06,     0.25613,      317.22,       376.1,     0.47167,      871.24,      287.07,    0.093104,      835.27,      449.38,      0.1367,      848.82,      300.15,    0.076528,      816.92,      490.51,     0.10875,      792.76,      437.29,    0.048305,\n",
      "             747.1,       531.6,    0.060636])]\n"
     ]
    }
   ],
   "source": [
    "output, image = run_inference('/home/robin/Desktop/assignment/images/images/Image_4.jpg') # Bryan Reyes on Unsplash\n",
    "visualize_output(output, image)"
   ]
  },
  {
   "cell_type": "code",
   "execution_count": 15,
   "id": "0b06d227",
   "metadata": {},
   "outputs": [],
   "source": [
    "def ext_kpts(path):\n",
    "    \n",
    "    for f in os.listdir(path):\n",
    "        img_path = path+\"/\"+f\n",
    "        \n",
    "        output,image = run_inference(img_path)\n",
    "    \n",
    "        output = non_max_suppression_kpt(output, \n",
    "                                         0.25, # Confidence Threshold\n",
    "                                         0.65, # IoU Threshold\n",
    "                                         nc=model.yaml['nc'], # Number of Classes\n",
    "                                         nkpt=model.yaml['nkpt'], # Number of Keypoints\n",
    "                                         kpt_label=True)\n",
    "        with torch.no_grad():\n",
    "            output = output_to_keypoint(output)\n",
    "    \n",
    "        all_kpts = []\n",
    "        for idx in range(output.shape[0]):\n",
    "            kpts = list(output[idx,7:].T)\n",
    "            kpts.append(all_kpts)\n",
    "        \n",
    "        return all_kpts\n",
    "        \n",
    "    "
   ]
  },
  {
   "cell_type": "code",
   "execution_count": 16,
   "id": "6d6639a5",
   "metadata": {},
   "outputs": [
    {
     "data": {
      "text/plain": [
       "[]"
      ]
     },
     "execution_count": 16,
     "metadata": {},
     "output_type": "execute_result"
    }
   ],
   "source": [
    "ext_kpts(\"/home/robin/Desktop/yolov7/yolo7_kpts_xtract/imgs\")"
   ]
  },
  {
   "cell_type": "code",
   "execution_count": 8,
   "id": "e1841a14",
   "metadata": {},
   "outputs": [
    {
     "name": "stdout",
     "output_type": "stream",
     "text": [
      "/home/robin/Desktop/yolov7/yolo7_kpts_xtract/imgs/Image_37.jpg\n",
      "/home/robin/Desktop/yolov7/yolo7_kpts_xtract/imgs/Image_6.jpg\n",
      "/home/robin/Desktop/yolov7/yolo7_kpts_xtract/imgs/Image_33.jpg\n",
      "/home/robin/Desktop/yolov7/yolo7_kpts_xtract/imgs/Image_4.jpg\n",
      "/home/robin/Desktop/yolov7/yolo7_kpts_xtract/imgs/Image_15.jpg\n",
      "/home/robin/Desktop/yolov7/yolo7_kpts_xtract/imgs/Image_1.jpg\n"
     ]
    }
   ],
   "source": [
    "import os\n",
    "\n",
    "path = \"/home/robin/Desktop/yolov7/yolo7_kpts_xtract/imgs\"\n",
    "\n",
    "for f in os.listdir(path):\n",
    "    img_p = path+\"/\"+f\n",
    "    print(img_p)"
   ]
  },
  {
   "cell_type": "code",
   "execution_count": null,
   "id": "3aaa4277",
   "metadata": {},
   "outputs": [],
   "source": []
  },
  {
   "cell_type": "code",
   "execution_count": null,
   "id": "f398edc7",
   "metadata": {},
   "outputs": [],
   "source": []
  },
  {
   "cell_type": "code",
   "execution_count": 37,
   "id": "598a1c07",
   "metadata": {},
   "outputs": [],
   "source": [
    "def draw_cir(image,kpts,draw = False):\n",
    "    co_ord = []\n",
    "    no_kpts = len(kpts)//3\n",
    "    \n",
    "    for i in range(no_kpts):\n",
    "        cx,cy = kpts[3*i], kpts[3*i + 1]\n",
    "        conf = kpts[3*i+2]\n",
    "        co_ord.append([i,cx,cy,conf])\n",
    "        cv2.circle(image, (cx,cy),10,(255,0,0),cv2.FILLED)\n",
    "    \n",
    "    print(\"conf\", conf)\n",
    "    print(\"co_ord\",co_ord)\n",
    "        \n",
    "    cv2.imshow(\"res\",image)\n",
    "    cv2.waitKey(0)\n",
    "    cv2.destroyAllWindows()"
   ]
  },
  {
   "cell_type": "code",
   "execution_count": 10,
   "id": "c34ce78f",
   "metadata": {},
   "outputs": [],
   "source": [
    "def pose_video(frame):\n",
    "    #mapped_img = frame.copy()\n",
    "    # Letterbox resizing.\n",
    "    img = letterbox(frame, input_size, stride=64, auto=True)[0]\n",
    "    print(img.shape)\n",
    "    img_ = img.copy()\n",
    "    # Convert the array to 4D.\n",
    "    img = transforms.ToTensor()(img)\n",
    "    # Convert the array to Tensor.\n",
    "    img = torch.tensor(np.array([img.numpy()]))\n",
    "    # Load the image into the computation device.\n",
    "    img = img.to(device)\n",
    "     \n",
    "    # Gradients are stored during training, not required while inference.\n",
    "    with torch.no_grad():\n",
    "        t1 = time.time()\n",
    "        output, _ = model(img)\n",
    "        t2 = time.time()\n",
    "        fps = 1/(t2 - t1)\n",
    "        output = non_max_suppression_kpt(output, \n",
    "                                         0.25,    # Conf. Threshold.\n",
    "                                         0.65,    # IoU Threshold.\n",
    "                                         nc=1,   # Number of classes.\n",
    "                                         nkpt=17, # Number of keypoints.\n",
    "                                         kpt_label=True)\n",
    "         \n",
    "        output = output_to_keypoint(output)\n",
    " \n",
    "    # Change format [b, c, h, w] to [h, w, c] for displaying the image.\n",
    "    nimg = img[0].permute(1, 2, 0) * 255\n",
    "    nimg = nimg.cpu().numpy().astype(np.uint8)\n",
    "    nimg = cv2.cvtColor(nimg, cv2.COLOR_RGB2BGR)\n",
    " \n",
    "    for idx in range(output.shape[0]):\n",
    "        plot_skeleton_kpts(nimg, output[idx, 7:].T, 3)\n",
    "         \n",
    "    return nimg, fps"
   ]
  },
  {
   "cell_type": "code",
   "execution_count": 18,
   "id": "5a8643ad",
   "metadata": {},
   "outputs": [],
   "source": [
    "#pose_video(\"'/home/robin/Desktop/assignment/images/images/Image_362.jpg'\")"
   ]
  },
  {
   "cell_type": "code",
   "execution_count": 17,
   "id": "183a519c",
   "metadata": {},
   "outputs": [],
   "source": [
    "import pandas as pd\n",
    "df = pd.DataFrame(columns=[\"Name\",\"KPTS\"])"
   ]
  },
  {
   "cell_type": "code",
   "execution_count": 18,
   "id": "fc7322fa",
   "metadata": {},
   "outputs": [
    {
     "data": {
      "text/html": [
       "<div>\n",
       "<style scoped>\n",
       "    .dataframe tbody tr th:only-of-type {\n",
       "        vertical-align: middle;\n",
       "    }\n",
       "\n",
       "    .dataframe tbody tr th {\n",
       "        vertical-align: top;\n",
       "    }\n",
       "\n",
       "    .dataframe thead th {\n",
       "        text-align: right;\n",
       "    }\n",
       "</style>\n",
       "<table border=\"1\" class=\"dataframe\">\n",
       "  <thead>\n",
       "    <tr style=\"text-align: right;\">\n",
       "      <th></th>\n",
       "      <th>Name</th>\n",
       "      <th>KPTS</th>\n",
       "    </tr>\n",
       "  </thead>\n",
       "  <tbody>\n",
       "  </tbody>\n",
       "</table>\n",
       "</div>"
      ],
      "text/plain": [
       "Empty DataFrame\n",
       "Columns: [Name, KPTS]\n",
       "Index: []"
      ]
     },
     "execution_count": 18,
     "metadata": {},
     "output_type": "execute_result"
    }
   ],
   "source": [
    "df"
   ]
  },
  {
   "cell_type": "code",
   "execution_count": 25,
   "id": "fa1a0096",
   "metadata": {},
   "outputs": [
    {
     "name": "stdout",
     "output_type": "stream",
     "text": [
      "Image_37.jpg\n",
      "Image_6.jpg\n",
      "Image_33.jpg\n",
      "Image_4.jpg\n",
      "Image_15.jpg\n",
      "Image_1.jpg\n"
     ]
    }
   ],
   "source": [
    "path = \"/home/robin/Desktop/yolov7/yolo7_kpts_xtract/imgs\"\n",
    "\n",
    "for f in os.listdir(path):\n",
    "    print(f)\n",
    "    #img_p = path+\"/\"+f\n",
    "    \n",
    "    df[\"Name\"] = f"
   ]
  },
  {
   "cell_type": "code",
   "execution_count": 24,
   "id": "92a2eb0c",
   "metadata": {},
   "outputs": [
    {
     "data": {
      "text/html": [
       "<div>\n",
       "<style scoped>\n",
       "    .dataframe tbody tr th:only-of-type {\n",
       "        vertical-align: middle;\n",
       "    }\n",
       "\n",
       "    .dataframe tbody tr th {\n",
       "        vertical-align: top;\n",
       "    }\n",
       "\n",
       "    .dataframe thead th {\n",
       "        text-align: right;\n",
       "    }\n",
       "</style>\n",
       "<table border=\"1\" class=\"dataframe\">\n",
       "  <thead>\n",
       "    <tr style=\"text-align: right;\">\n",
       "      <th></th>\n",
       "      <th>Name</th>\n",
       "      <th>KPTS</th>\n",
       "    </tr>\n",
       "  </thead>\n",
       "  <tbody>\n",
       "  </tbody>\n",
       "</table>\n",
       "</div>"
      ],
      "text/plain": [
       "Empty DataFrame\n",
       "Columns: [Name, KPTS]\n",
       "Index: []"
      ]
     },
     "execution_count": 24,
     "metadata": {},
     "output_type": "execute_result"
    }
   ],
   "source": [
    "df"
   ]
  },
  {
   "cell_type": "code",
   "execution_count": 18,
   "id": "531dfb08",
   "metadata": {},
   "outputs": [
    {
     "data": {
      "text/html": [
       "<div>\n",
       "<style scoped>\n",
       "    .dataframe tbody tr th:only-of-type {\n",
       "        vertical-align: middle;\n",
       "    }\n",
       "\n",
       "    .dataframe tbody tr th {\n",
       "        vertical-align: top;\n",
       "    }\n",
       "\n",
       "    .dataframe thead th {\n",
       "        text-align: right;\n",
       "    }\n",
       "</style>\n",
       "<table border=\"1\" class=\"dataframe\">\n",
       "  <thead>\n",
       "    <tr style=\"text-align: right;\">\n",
       "      <th></th>\n",
       "      <th>0</th>\n",
       "      <th>1</th>\n",
       "    </tr>\n",
       "  </thead>\n",
       "  <tbody>\n",
       "    <tr>\n",
       "      <th>0</th>\n",
       "      <td>Image_1.jpg</td>\n",
       "      <td>sitting</td>\n",
       "    </tr>\n",
       "    <tr>\n",
       "      <th>1</th>\n",
       "      <td>Image_4.jpg</td>\n",
       "      <td>sleeping</td>\n",
       "    </tr>\n",
       "    <tr>\n",
       "      <th>2</th>\n",
       "      <td>Image_6.jpg</td>\n",
       "      <td>sleeping</td>\n",
       "    </tr>\n",
       "    <tr>\n",
       "      <th>3</th>\n",
       "      <td>Image_15.jpg</td>\n",
       "      <td>sleeping</td>\n",
       "    </tr>\n",
       "    <tr>\n",
       "      <th>4</th>\n",
       "      <td>Image_33.jpg</td>\n",
       "      <td>sitting</td>\n",
       "    </tr>\n",
       "    <tr>\n",
       "      <th>...</th>\n",
       "      <td>...</td>\n",
       "      <td>...</td>\n",
       "    </tr>\n",
       "    <tr>\n",
       "      <th>1264</th>\n",
       "      <td>Image_12527.jpg</td>\n",
       "      <td>running</td>\n",
       "    </tr>\n",
       "    <tr>\n",
       "      <th>1265</th>\n",
       "      <td>Image_12577.jpg</td>\n",
       "      <td>sleeping</td>\n",
       "    </tr>\n",
       "    <tr>\n",
       "      <th>1266</th>\n",
       "      <td>Image_12594.jpg</td>\n",
       "      <td>sleeping</td>\n",
       "    </tr>\n",
       "    <tr>\n",
       "      <th>1267</th>\n",
       "      <td>Image_12596.jpg</td>\n",
       "      <td>sitting</td>\n",
       "    </tr>\n",
       "    <tr>\n",
       "      <th>1268</th>\n",
       "      <td>Image_12598.jpg</td>\n",
       "      <td>sitting</td>\n",
       "    </tr>\n",
       "  </tbody>\n",
       "</table>\n",
       "<p>1269 rows × 2 columns</p>\n",
       "</div>"
      ],
      "text/plain": [
       "                    0         1\n",
       "0         Image_1.jpg   sitting\n",
       "1         Image_4.jpg  sleeping\n",
       "2         Image_6.jpg  sleeping\n",
       "3        Image_15.jpg  sleeping\n",
       "4        Image_33.jpg   sitting\n",
       "...               ...       ...\n",
       "1264  Image_12527.jpg   running\n",
       "1265  Image_12577.jpg  sleeping\n",
       "1266  Image_12594.jpg  sleeping\n",
       "1267  Image_12596.jpg   sitting\n",
       "1268  Image_12598.jpg   sitting\n",
       "\n",
       "[1269 rows x 2 columns]"
      ]
     },
     "execution_count": 18,
     "metadata": {},
     "output_type": "execute_result"
    }
   ],
   "source": [
    "dff = pd.read_csv(\"/home/robin/Desktop/yolov7/yolo7_kpts_xtract/labels.csv\",header = None)\n",
    "dff"
   ]
  },
  {
   "cell_type": "code",
   "execution_count": 19,
   "id": "2007db7a",
   "metadata": {},
   "outputs": [],
   "source": [
    "dff = dff.rename(columns={0: 'Name', 1: 'Label'})"
   ]
  },
  {
   "cell_type": "code",
   "execution_count": 21,
   "id": "fae23008",
   "metadata": {},
   "outputs": [
    {
     "data": {
      "text/html": [
       "<div>\n",
       "<style scoped>\n",
       "    .dataframe tbody tr th:only-of-type {\n",
       "        vertical-align: middle;\n",
       "    }\n",
       "\n",
       "    .dataframe tbody tr th {\n",
       "        vertical-align: top;\n",
       "    }\n",
       "\n",
       "    .dataframe thead th {\n",
       "        text-align: right;\n",
       "    }\n",
       "</style>\n",
       "<table border=\"1\" class=\"dataframe\">\n",
       "  <thead>\n",
       "    <tr style=\"text-align: right;\">\n",
       "      <th></th>\n",
       "      <th>Name</th>\n",
       "      <th>Label</th>\n",
       "    </tr>\n",
       "  </thead>\n",
       "  <tbody>\n",
       "    <tr>\n",
       "      <th>0</th>\n",
       "      <td>Image_1.jpg</td>\n",
       "      <td>sitting</td>\n",
       "    </tr>\n",
       "    <tr>\n",
       "      <th>1</th>\n",
       "      <td>Image_4.jpg</td>\n",
       "      <td>sleeping</td>\n",
       "    </tr>\n",
       "    <tr>\n",
       "      <th>2</th>\n",
       "      <td>Image_6.jpg</td>\n",
       "      <td>sleeping</td>\n",
       "    </tr>\n",
       "  </tbody>\n",
       "</table>\n",
       "</div>"
      ],
      "text/plain": [
       "          Name     Label\n",
       "0  Image_1.jpg   sitting\n",
       "1  Image_4.jpg  sleeping\n",
       "2  Image_6.jpg  sleeping"
      ]
     },
     "execution_count": 21,
     "metadata": {},
     "output_type": "execute_result"
    }
   ],
   "source": [
    "dff[:3]"
   ]
  },
  {
   "cell_type": "code",
   "execution_count": null,
   "id": "19b47096",
   "metadata": {},
   "outputs": [],
   "source": []
  },
  {
   "cell_type": "code",
   "execution_count": 34,
   "id": "260228a8",
   "metadata": {},
   "outputs": [
    {
     "data": {
      "text/plain": [
       "1269"
      ]
     },
     "execution_count": 34,
     "metadata": {},
     "output_type": "execute_result"
    }
   ],
   "source": [
    "len(dff)"
   ]
  },
  {
   "cell_type": "code",
   "execution_count": null,
   "id": "0fc4131c",
   "metadata": {},
   "outputs": [],
   "source": [
    "for i in range(10):\n",
    "    path = \"/home/robin/Desktop/yolov7/yolo7_kpts_xtract/imgs\"\n",
    "    "
   ]
  },
  {
   "cell_type": "code",
   "execution_count": 46,
   "id": "fbbe05ea",
   "metadata": {},
   "outputs": [],
   "source": [
    "filenames = [\"/home/robin/Desktop/yolov7/yolo7_kpts_xtract/imgs/\" + fname for fname in dff[\"Name\"]]\n"
   ]
  },
  {
   "cell_type": "code",
   "execution_count": 47,
   "id": "03b1e5e5",
   "metadata": {},
   "outputs": [
    {
     "data": {
      "text/plain": [
       "['/home/robin/Desktop/yolov7/yolo7_kpts_xtract/imgs/Image_1.jpg',\n",
       " '/home/robin/Desktop/yolov7/yolo7_kpts_xtract/imgs/Image_4.jpg',\n",
       " '/home/robin/Desktop/yolov7/yolo7_kpts_xtract/imgs/Image_6.jpg',\n",
       " '/home/robin/Desktop/yolov7/yolo7_kpts_xtract/imgs/Image_15.jpg',\n",
       " '/home/robin/Desktop/yolov7/yolo7_kpts_xtract/imgs/Image_33.jpg']"
      ]
     },
     "execution_count": 47,
     "metadata": {},
     "output_type": "execute_result"
    }
   ],
   "source": [
    "filenames[:5]"
   ]
  },
  {
   "cell_type": "code",
   "execution_count": 16,
   "id": "8572a604",
   "metadata": {},
   "outputs": [],
   "source": [
    "test_path = \"/home/robin/Desktop/yolov7/yolo7_kpts_xtract/imgs/\"\n",
    "test_filename = [test_path + fname for fname in os.listdir(test_path)]"
   ]
  },
  {
   "cell_type": "code",
   "execution_count": 23,
   "id": "72b36eeb",
   "metadata": {},
   "outputs": [
    {
     "data": {
      "text/plain": [
       "['/home/robin/Desktop/yolov7/yolo7_kpts_xtract/imgs/Image_6.jpg',\n",
       " '/home/robin/Desktop/yolov7/yolo7_kpts_xtract/imgs/Image_4.jpg',\n",
       " '/home/robin/Desktop/yolov7/yolo7_kpts_xtract/imgs/Image_1.jpg']"
      ]
     },
     "execution_count": 23,
     "metadata": {},
     "output_type": "execute_result"
    }
   ],
   "source": [
    "test_filename"
   ]
  },
  {
   "cell_type": "code",
   "execution_count": 31,
   "id": "a614dd95",
   "metadata": {},
   "outputs": [],
   "source": [
    "def ext_kpts(path):\n",
    "    \n",
    "    all_kpt = []\n",
    "    \n",
    "    \n",
    "    for f in os.listdir(path):\n",
    "        img_p = path+\"/\"+f\n",
    "    \n",
    "        output,image = run_inference(img_p)\n",
    "\n",
    "        output = non_max_suppression_kpt(output, \n",
    "                                         0.25, # Confidence Threshold\n",
    "                                         0.65, # IoU Threshold\n",
    "                                         nc=model.yaml['nc'], # Number of Classes\n",
    "                                         nkpt=model.yaml['nkpt'], # Number of Keypoints\n",
    "                                         kpt_label=True)\n",
    "        with torch.no_grad():\n",
    "            output = output_to_keypoint(output)\n",
    "\n",
    "\n",
    "        for idx in range(output.shape[0]):\n",
    "            kpts = (output[idx,7:].T)\n",
    "            new_kpts = [i for i in kpts]\n",
    "            new_kpts.append(all_kpt)\n",
    "            kpts = []\n",
    "            \n",
    "    return all_kpt\n",
    "        \n",
    "    "
   ]
  },
  {
   "cell_type": "code",
   "execution_count": 32,
   "id": "fa70b18f",
   "metadata": {},
   "outputs": [],
   "source": [
    "path = \"/home/robin/Desktop/yolov7/yolo7_kpts_xtract/imgs\""
   ]
  },
  {
   "cell_type": "code",
   "execution_count": 33,
   "id": "53dab145",
   "metadata": {},
   "outputs": [
    {
     "data": {
      "text/plain": [
       "[]"
      ]
     },
     "execution_count": 33,
     "metadata": {},
     "output_type": "execute_result"
    }
   ],
   "source": [
    "ext_kpts(path)"
   ]
  },
  {
   "cell_type": "code",
   "execution_count": 10,
   "id": "4156e355",
   "metadata": {},
   "outputs": [
    {
     "ename": "NameError",
     "evalue": "name 'all_kpt' is not defined",
     "output_type": "error",
     "traceback": [
      "\u001b[0;31m---------------------------------------------------------------------------\u001b[0m",
      "\u001b[0;31mNameError\u001b[0m                                 Traceback (most recent call last)",
      "Cell \u001b[0;32mIn [10], line 1\u001b[0m\n\u001b[0;32m----> 1\u001b[0m \u001b[43mall_kpt\u001b[49m\n",
      "\u001b[0;31mNameError\u001b[0m: name 'all_kpt' is not defined"
     ]
    }
   ],
   "source": [
    "all_kpt"
   ]
  },
  {
   "cell_type": "code",
   "execution_count": 22,
   "id": "1ef0646c",
   "metadata": {},
   "outputs": [],
   "source": [
    "#df.drop('KPTS', inplace=True, axis=1)"
   ]
  },
  {
   "cell_type": "code",
   "execution_count": 23,
   "id": "a11b3e8d",
   "metadata": {},
   "outputs": [
    {
     "data": {
      "text/html": [
       "<div>\n",
       "<style scoped>\n",
       "    .dataframe tbody tr th:only-of-type {\n",
       "        vertical-align: middle;\n",
       "    }\n",
       "\n",
       "    .dataframe tbody tr th {\n",
       "        vertical-align: top;\n",
       "    }\n",
       "\n",
       "    .dataframe thead th {\n",
       "        text-align: right;\n",
       "    }\n",
       "</style>\n",
       "<table border=\"1\" class=\"dataframe\">\n",
       "  <thead>\n",
       "    <tr style=\"text-align: right;\">\n",
       "      <th></th>\n",
       "      <th>Name</th>\n",
       "      <th>KPTS</th>\n",
       "    </tr>\n",
       "  </thead>\n",
       "  <tbody>\n",
       "    <tr>\n",
       "      <th>0</th>\n",
       "      <td>NaN</td>\n",
       "      <td>[358.8403625488281, 154.9840087890625, 0.99754...</td>\n",
       "    </tr>\n",
       "  </tbody>\n",
       "</table>\n",
       "</div>"
      ],
      "text/plain": [
       "  Name                                               KPTS\n",
       "0  NaN  [358.8403625488281, 154.9840087890625, 0.99754..."
      ]
     },
     "execution_count": 23,
     "metadata": {},
     "output_type": "execute_result"
    }
   ],
   "source": [
    "df"
   ]
  },
  {
   "cell_type": "code",
   "execution_count": 24,
   "id": "c4282497",
   "metadata": {},
   "outputs": [
    {
     "data": {
      "text/plain": [
       "0    [358.8403625488281, 154.9840087890625, 0.99754...\n",
       "Name: KPTS, dtype: object"
      ]
     },
     "execution_count": 24,
     "metadata": {},
     "output_type": "execute_result"
    }
   ],
   "source": [
    "df[\"KPTS\"]"
   ]
  },
  {
   "cell_type": "code",
   "execution_count": null,
   "id": "de10629e",
   "metadata": {},
   "outputs": [],
   "source": []
  }
 ],
 "metadata": {
  "kernelspec": {
   "display_name": "text_extraction",
   "language": "python",
   "name": "text_extraction"
  },
  "language_info": {
   "codemirror_mode": {
    "name": "ipython",
    "version": 3
   },
   "file_extension": ".py",
   "mimetype": "text/x-python",
   "name": "python",
   "nbconvert_exporter": "python",
   "pygments_lexer": "ipython3",
   "version": "3.9.13"
  }
 },
 "nbformat": 4,
 "nbformat_minor": 5
}
